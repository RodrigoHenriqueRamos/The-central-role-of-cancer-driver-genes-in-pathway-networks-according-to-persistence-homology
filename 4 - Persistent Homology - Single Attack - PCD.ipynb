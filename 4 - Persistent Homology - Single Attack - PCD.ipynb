{
 "cells": [
  {
   "cell_type": "code",
   "execution_count": 1,
   "id": "c380cc53-451e-4e6f-bf18-e3c03baf6836",
   "metadata": {},
   "outputs": [],
   "source": [
    "import warnings\n",
    "warnings.filterwarnings('ignore')\n",
    "\n",
    "import pandas as pd\n",
    "import numpy as np\n",
    "import seaborn as sns\n",
    "import matplotlib.pyplot as plt\n",
    "import networkx as nx\n",
    "import pickle\n",
    "import gudhi as gd  "
   ]
  },
  {
   "cell_type": "code",
   "execution_count": 2,
   "id": "2be537a4",
   "metadata": {},
   "outputs": [
    {
     "data": {
      "text/plain": [
       "[\"Graph named 'Consensus PCD' with 170 nodes and 1840 edges\"]"
      ]
     },
     "execution_count": 2,
     "metadata": {},
     "output_type": "execute_result"
    }
   ],
   "source": [
    "networks={}\n",
    "for name in ['PCD']:\n",
    "    cName = 'Consensus '+name\n",
    "    networks[cName]=nx.read_edgelist('1 output\\\\'+cName)\n",
    "    networks[cName].name=cName\n",
    "    \n",
    "[nx.info(G) for G in networks.values()]"
   ]
  },
  {
   "cell_type": "markdown",
   "id": "5dd17992-7d2a-48cb-b1f3-19fd76a50af3",
   "metadata": {},
   "source": [
    "# Removing one by one."
   ]
  },
  {
   "cell_type": "code",
   "execution_count": 3,
   "id": "0be5f1e6-8137-4ddb-aae8-66ff2c90da36",
   "metadata": {},
   "outputs": [],
   "source": [
    "def removeNodesReturnLCC(G,removeSet):\n",
    "    newG=G.copy()\n",
    "    newG.remove_nodes_from(G.nodes&removeSet)\n",
    "    newG=nx.subgraph(newG,max(nx.connected_components(newG),key=len))\n",
    "    return newG\n",
    "\n",
    "def persistantHomologyFromNetworkWithRips(G,name,dim,plot=True):      \n",
    "    dm=pd.DataFrame(dict(nx.shortest_path_length(G))).sort_index()\n",
    "    dm=dm[sorted(dm.columns)]\n",
    "    skeleton = gd.RipsComplex(distance_matrix = dm.values) \n",
    "\n",
    "    Rips_simplex_tree = skeleton.create_simplex_tree(max_dimension = dim)\n",
    "    \n",
    "    BarCode = Rips_simplex_tree.persistence()\n",
    "      \n",
    "    #----Simplexes Resume\n",
    "    simplexesLen={}\n",
    "    for simplex,filtration in Rips_simplex_tree.get_filtration():\n",
    "        if(len(simplex)-1 not in simplexesLen):\n",
    "            simplexesLen[len(simplex)-1]=1\n",
    "        else:\n",
    "            simplexesLen[len(simplex)-1]+=1    \n",
    "\n",
    "    simplexesResume=''\n",
    "    for item in simplexesLen.items():\n",
    "        simplexesResume+=str(item[0])+': '+str(item[1])+' | '\n",
    "    simplexesResume[0:-3]  \n",
    "    \n",
    "    #----Barcode Resume\n",
    "    \n",
    "    dimensionsLen={}\n",
    "    for dim in range(0,dim+1):\n",
    "        dimensionsLen[dim]=len([bd for bd in BarCode if (bd[0]==dim)])\n",
    "\n",
    "    dimensionResume=''\n",
    "    for item in dimensionsLen.items():\n",
    "        dimensionResume+=str(item[0])+': '+str(item[1])+' | '\n",
    "    dimensionResume[0:-3]    \n",
    "            \n",
    "    #--Plot\n",
    "    if plot:\n",
    "        plt.figure(figsize=(10,10),dpi=250)\n",
    "        gd.plot_persistence_barcode(BarCode,axes=plt.gca());    \n",
    "        plt.title(name+'\\n Simplexes: '+simplexesResume[0:-3]+'\\n Numbers of Bars: '+dimensionResume[0:-3],fontsize=9)\n",
    "        plt.tight_layout()\n",
    "        plt.savefig('./4 output/Barcode - '+name+' - Rips.png',dpi=500,facecolor='white')\n",
    "        plt.show()\n",
    "    \n",
    "    with open('4 output/'+name+'.pkl',mode='wb') as f:\n",
    "        pickle.dump(BarCode,f)"
   ]
  },
  {
   "cell_type": "code",
   "execution_count": 4,
   "id": "8d6604b2-e28a-410c-a245-cc7c8efc90bd",
   "metadata": {
    "scrolled": false
   },
   "outputs": [
    {
     "name": "stdout",
     "output_type": "stream",
     "text": [
      "CPU times: total: 4h 46min 9s\n",
      "Wall time: 4h 46min 18s\n"
     ]
    }
   ],
   "source": [
    "%%time\n",
    "for name,G_original in networks.items():\n",
    "    for node in sorted(G_original.nodes):\n",
    "        G=removeNodesReturnLCC(G_original,[node])\n",
    "        persistantHomologyFromNetworkWithRips(G,name+'-'+node,3,plot=False)"
   ]
  }
 ],
 "metadata": {
  "kernelspec": {
   "display_name": "Python 3 (ipykernel)",
   "language": "python",
   "name": "python3"
  },
  "language_info": {
   "codemirror_mode": {
    "name": "ipython",
    "version": 3
   },
   "file_extension": ".py",
   "mimetype": "text/x-python",
   "name": "python",
   "nbconvert_exporter": "python",
   "pygments_lexer": "ipython3",
   "version": "3.8.5"
  }
 },
 "nbformat": 4,
 "nbformat_minor": 5
}
